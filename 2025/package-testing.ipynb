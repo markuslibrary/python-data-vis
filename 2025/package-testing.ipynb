{
 "cells": [
  {
   "cell_type": "markdown",
   "id": "2e07dd3d-497b-4f75-a189-5a68aaa3a9ba",
   "metadata": {},
   "source": [
    "### Package Testing\n",
    "\n",
    "Run the code in the box below to make sure you have the correct packages for the workshop. Be sure you have selected the data-vis-class environment."
   ]
  },
  {
   "cell_type": "code",
   "execution_count": 3,
   "id": "b414c949-977b-485e-87c0-d5a5421be9e6",
   "metadata": {},
   "outputs": [
    {
     "name": "stdout",
     "output_type": "stream",
     "text": [
      "My Python version is 3.11.11 | packaged by Anaconda, Inc. | (main, Dec 11 2024, 16:34:19) [MSC v.1929 64 bit (AMD64)]\n",
      "My NumPy version is 2.1.3\n",
      "My Matplotlib version is 3.9.2\n"
     ]
    }
   ],
   "source": [
    "import sys\n",
    "\n",
    "print('My Python version is ' + str(sys.version))\n",
    "\n",
    "import numpy as np\n",
    "print('My NumPy version is ' + str(np.__version__))\n",
    "\n",
    "import matplotlib as mpl\n",
    "print('My Matplotlib version is ' + str(mpl.__version__))\n"
   ]
  },
  {
   "cell_type": "markdown",
   "id": "236ba1b9-0b81-4a46-a56e-e5a8e1d08e85",
   "metadata": {},
   "source": [
    "You should see something like: \n",
    "\n",
    "My Python version is 3.11.11 | packaged by Anaconda, Inc. | (main, Dec 11 2024, 16:34:19) [MSC v.1929 64 bit (AMD64)]\n",
    "My NumPy version is 2.1.3\n",
    "My Matplotlib version is 3.9.2\n",
    "\n",
    "If this code returns an error, you either\n",
    "\n",
    "1. Do not have Python installed\n",
    "2. Do not have one of the required packages package installed\n",
    "3. Have a very old version installed\n",
    "\n",
    "Current versions of NumPy and Matplotlib are 1.26.2 and 3.8.2, respectively. You do not need the absolute most recent versions, but please update your libraries if they are significantly out of date. If you encountered an error or have trouble obtaining the correct versions of anything, contact [Claire Warner](mailto:cwarner@rockefeller.edu) well in advance of the workshop.\n",
    "\n"
   ]
  }
 ],
 "metadata": {
  "kernelspec": {
   "display_name": "data-vis-class",
   "language": "python",
   "name": "python3"
  },
  "language_info": {
   "codemirror_mode": {
    "name": "ipython",
    "version": 3
   },
   "file_extension": ".py",
   "mimetype": "text/x-python",
   "name": "python",
   "nbconvert_exporter": "python",
   "pygments_lexer": "ipython3",
   "version": "3.11.11"
  }
 },
 "nbformat": 4,
 "nbformat_minor": 5
}
