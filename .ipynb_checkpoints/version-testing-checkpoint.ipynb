{
 "cells": [
  {
   "cell_type": "markdown",
   "id": "2e07dd3d-497b-4f75-a189-5a68aaa3a9ba",
   "metadata": {},
   "source": [
    "### Tester Workbook\n",
    "\n",
    "Run the code in the box below to see if your computer has an acceptable version of matplotlib and numpy for this workshop.\n",
    "\n",
    "To run the code, select the box below and hit the \"play\" icon. Your Python version should be >3."
   ]
  },
  {
   "cell_type": "code",
   "execution_count": 7,
   "id": "b414c949-977b-485e-87c0-d5a5421be9e6",
   "metadata": {},
   "outputs": [
    {
     "name": "stdout",
     "output_type": "stream",
     "text": [
      "My Python version is 3.10.9 | packaged by Anaconda, Inc. | (main, Mar  1 2023, 18:18:15) [MSC v.1916 64 bit (AMD64)]\n",
      "My matplotlib version is 3.7.0\n",
      "My numpy version is 1.23.5\n"
     ]
    }
   ],
   "source": [
    "import sys\n",
    "import platform\n",
    "print('My Python version is ' + str(sys.version))\n",
    "\n",
    "import matplotlib as mpl\n",
    "print('My matplotlib version is ' + str(mpl.__version__))\n",
    "\n",
    "import numpy as np\n",
    "print('My numpy version is ' + str(np.__version__))"
   ]
  },
  {
   "cell_type": "markdown",
   "id": "236ba1b9-0b81-4a46-a56e-e5a8e1d08e85",
   "metadata": {},
   "source": [
    "If this code returns an error, you either\n",
    "\n",
    "1. Do not have Python installed\n",
    "2. Do not have the package installed, or\n",
    "3. Have a very old version installed\n",
    "\n",
    "If you do not have Python installed at all, you can find it (and the necessary packages) [here](https://www.anaconda.com/download). The Anaconda distribution contains everything you will need to for this workshop.\n",
    "\n",
    "Please update your libraries accordingly in advance of the workshop. Instructions for how to do so can be found here:\n",
    "* [Update matplotlib](https://matplotlib.org/stable/users/installing/index.html)\n",
    "* [Update numpy](https://numpy.org/install/)\n",
    "\n",
    "If you need help installing Python or any libraries, please contact [Claire Warner](mailto:cwarner@rockefeller.edu) well in advance of the workshop.\n",
    "\n"
   ]
  },
  {
   "cell_type": "code",
   "execution_count": null,
   "id": "f57802b9-cf47-4f0b-8a15-7a952a04d555",
   "metadata": {},
   "outputs": [],
   "source": []
  }
 ],
 "metadata": {
  "kernelspec": {
   "display_name": "Python 3 (ipykernel)",
   "language": "python",
   "name": "python3"
  },
  "language_info": {
   "codemirror_mode": {
    "name": "ipython",
    "version": 3
   },
   "file_extension": ".py",
   "mimetype": "text/x-python",
   "name": "python",
   "nbconvert_exporter": "python",
   "pygments_lexer": "ipython3",
   "version": "3.10.9"
  }
 },
 "nbformat": 4,
 "nbformat_minor": 5
}
